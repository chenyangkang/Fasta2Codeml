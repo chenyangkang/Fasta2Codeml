{
 "cells": [
  {
   "cell_type": "code",
   "execution_count": 28,
   "id": "93123940",
   "metadata": {},
   "outputs": [
    {
     "name": "stdout",
     "output_type": "stream",
     "text": [
      "test\n",
      " None\n",
      "test\n",
      " None\n",
      "test\n",
      " None\n",
      "test\n",
      " None\n",
      "test\n",
      " None\n",
      "test\n",
      " None\n",
      "test\n",
      " None\n",
      "test\n",
      " None\n",
      "test\n",
      " None\n",
      "test\n",
      " None\n",
      " 0\n"
     ]
    },
    {
     "data": {
      "text/plain": [
       "0"
      ]
     },
     "execution_count": 28,
     "metadata": {},
     "output_type": "execute_result"
    }
   ],
   "source": [
    "import subprocess\n",
    "p = subprocess.Popen(\"for i in {1..10}; do echo 'test';sleep 1;done\", shell=True, stdout=subprocess.PIPE, stderr=subprocess.PIPE)\n",
    "while True:\n",
    "    buff = p.stdout.readline()\n",
    "    buff = bytes.decode(buff)\n",
    "    print(buff, p.poll())\n",
    "    if buff == '' and p.poll() != None:\n",
    "        break\n",
    "\n",
    "p.wait()\n",
    "\n"
   ]
  },
  {
   "cell_type": "code",
   "execution_count": 26,
   "id": "6d8bd942",
   "metadata": {},
   "outputs": [
    {
     "data": {
      "text/plain": [
       "0"
      ]
     },
     "execution_count": 26,
     "metadata": {},
     "output_type": "execute_result"
    }
   ],
   "source": [
    "p.poll()"
   ]
  },
  {
   "cell_type": "code",
   "execution_count": 24,
   "id": "4a13c634",
   "metadata": {},
   "outputs": [
    {
     "data": {
      "text/plain": [
       "b''"
      ]
     },
     "execution_count": 24,
     "metadata": {},
     "output_type": "execute_result"
    }
   ],
   "source": [
    "p.stdout.readline()"
   ]
  },
  {
   "cell_type": "code",
   "execution_count": 16,
   "id": "1e0d88eb",
   "metadata": {},
   "outputs": [
    {
     "name": "stderr",
     "output_type": "stream",
     "text": [
      "\n",
      "KeyboardInterrupt\n",
      "\n"
     ]
    }
   ],
   "source": [
    "p=subprocess.Popen(\"dir\", shell=True, stdout=subprocess.PIPE, stderr=subprocess.STDOUT)\n",
    "while True:\n",
    "    buff = p.stdout.readline()\n",
    "    if buff == '' and p.poll() != None:\n",
    "        break\n",
    "\n"
   ]
  }
 ],
 "metadata": {
  "kernelspec": {
   "display_name": "Python 3 (ipykernel)",
   "language": "python",
   "name": "python3"
  },
  "language_info": {
   "codemirror_mode": {
    "name": "ipython",
    "version": 3
   },
   "file_extension": ".py",
   "mimetype": "text/x-python",
   "name": "python",
   "nbconvert_exporter": "python",
   "pygments_lexer": "ipython3",
   "version": "3.9.13"
  }
 },
 "nbformat": 4,
 "nbformat_minor": 5
}
